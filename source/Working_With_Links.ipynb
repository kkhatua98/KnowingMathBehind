{
  "nbformat": 4,
  "nbformat_minor": 0,
  "metadata": {
    "colab": {
      "name": "Working_With_Links.ipynb",
      "provenance": [],
      "collapsed_sections": [],
      "authorship_tag": "ABX9TyMqRUHbAJ6z8xcrCvYUIdjY"
    },
    "kernelspec": {
      "name": "python3",
      "display_name": "Python 3"
    },
    "language_info": {
      "name": "python"
    }
  },
  "cells": [
    {
      "cell_type": "markdown",
      "metadata": {
        "id": "0U0T-FnNWtxU"
      },
      "source": [
        "### Workin with Links\n",
        "[Link](Multinomial_Logistic_Regression.ipynb)"
      ]
    }
  ]
}