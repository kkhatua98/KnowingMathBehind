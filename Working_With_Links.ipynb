{
 "cells": [
  {
   "cell_type": "markdown",
   "metadata": {
    "id": "0U0T-FnNWtxU"
   },
   "source": [
    "### Workin with Links\n",
    "[Link](Multinomial_Logistic_Regression.ipynb)"
   ]
  }
 ],
 "metadata": {
  "colab": {
   "authorship_tag": "ABX9TyMqRUHbAJ6z8xcrCvYUIdjY",
   "collapsed_sections": [],
   "name": "Working_With_Links.ipynb",
   "provenance": []
  },
  "kernelspec": {
   "display_name": "Python 3",
   "name": "python3"
  },
  "language_info": {
   "name": "python"
  }
 },
 "nbformat": 4,
 "nbformat_minor": 0
}
